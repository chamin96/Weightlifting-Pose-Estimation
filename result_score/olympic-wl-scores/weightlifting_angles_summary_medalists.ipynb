{
  "nbformat": 4,
  "nbformat_minor": 0,
  "metadata": {
    "colab": {
      "name": "weightlifting angles summary-medalists.ipynb",
      "provenance": []
    },
    "kernelspec": {
      "name": "python3",
      "display_name": "Python 3"
    }
  },
  "cells": [
    {
      "cell_type": "code",
      "metadata": {
        "id": "0czDvq2ojkGD"
      },
      "source": [
        "from pandas import read_csv\r\n",
        "\r\n",
        "# define the dataset location\r\n",
        "filename = 'score_report.csv'\r\n",
        "\r\n",
        "# load the csv file as a data frame, header as 1st row and missing values as '?'\r\n",
        "dataframe = read_csv(filename, header=0, na_values='?')"
      ],
      "execution_count": 6,
      "outputs": []
    },
    {
      "cell_type": "code",
      "metadata": {
        "colab": {
          "base_uri": "https://localhost:8080/",
          "height": 195
        },
        "id": "LMr4pbBljtu2",
        "outputId": "6916575a-5b92-4e32-c052-d190b6f034ae"
      },
      "source": [
        "# print first 5 rows in the dataset\r\n",
        "dataframe.head()"
      ],
      "execution_count": 7,
      "outputs": [
        {
          "output_type": "execute_result",
          "data": {
            "text/html": [
              "<div>\n",
              "<style scoped>\n",
              "    .dataframe tbody tr th:only-of-type {\n",
              "        vertical-align: middle;\n",
              "    }\n",
              "\n",
              "    .dataframe tbody tr th {\n",
              "        vertical-align: top;\n",
              "    }\n",
              "\n",
              "    .dataframe thead th {\n",
              "        text-align: right;\n",
              "    }\n",
              "</style>\n",
              "<table border=\"1\" class=\"dataframe\">\n",
              "  <thead>\n",
              "    <tr style=\"text-align: right;\">\n",
              "      <th></th>\n",
              "      <th>file</th>\n",
              "      <th>kAngle</th>\n",
              "      <th>bAngle</th>\n",
              "      <th>kScore</th>\n",
              "      <th>bScore</th>\n",
              "      <th>oScore</th>\n",
              "    </tr>\n",
              "  </thead>\n",
              "  <tbody>\n",
              "    <tr>\n",
              "      <th>0</th>\n",
              "      <td>women53kg_0001.mp4</td>\n",
              "      <td>82.740023</td>\n",
              "      <td>4.086367</td>\n",
              "      <td>1.774002</td>\n",
              "      <td>9.863788</td>\n",
              "      <td>4.200938</td>\n",
              "    </tr>\n",
              "    <tr>\n",
              "      <th>1</th>\n",
              "      <td>women53kg_0002.mp4</td>\n",
              "      <td>76.856597</td>\n",
              "      <td>1.666886</td>\n",
              "      <td>1.185660</td>\n",
              "      <td>9.944437</td>\n",
              "      <td>3.813293</td>\n",
              "    </tr>\n",
              "    <tr>\n",
              "      <th>2</th>\n",
              "      <td>men56kg_0001.mp4</td>\n",
              "      <td>39.361765</td>\n",
              "      <td>1.566730</td>\n",
              "      <td>-2.563824</td>\n",
              "      <td>9.947776</td>\n",
              "      <td>1.189656</td>\n",
              "    </tr>\n",
              "    <tr>\n",
              "      <th>3</th>\n",
              "      <td>women53kg_0004.mp4</td>\n",
              "      <td>51.879113</td>\n",
              "      <td>4.089707</td>\n",
              "      <td>-1.312089</td>\n",
              "      <td>9.863676</td>\n",
              "      <td>2.040641</td>\n",
              "    </tr>\n",
              "    <tr>\n",
              "      <th>4</th>\n",
              "      <td>women48kg_0003.mp4</td>\n",
              "      <td>103.650978</td>\n",
              "      <td>5.012027</td>\n",
              "      <td>3.865098</td>\n",
              "      <td>9.832932</td>\n",
              "      <td>5.655448</td>\n",
              "    </tr>\n",
              "  </tbody>\n",
              "</table>\n",
              "</div>"
            ],
            "text/plain": [
              "                 file      kAngle    bAngle    kScore    bScore    oScore\n",
              "0  women53kg_0001.mp4   82.740023  4.086367  1.774002  9.863788  4.200938\n",
              "1  women53kg_0002.mp4   76.856597  1.666886  1.185660  9.944437  3.813293\n",
              "2    men56kg_0001.mp4   39.361765  1.566730 -2.563824  9.947776  1.189656\n",
              "3  women53kg_0004.mp4   51.879113  4.089707 -1.312089  9.863676  2.040641\n",
              "4  women48kg_0003.mp4  103.650978  5.012027  3.865098  9.832932  5.655448"
            ]
          },
          "metadata": {
            "tags": []
          },
          "execution_count": 7
        }
      ]
    },
    {
      "cell_type": "code",
      "metadata": {
        "id": "NWSjPzSzjuek",
        "colab": {
          "base_uri": "https://localhost:8080/",
          "height": 284
        },
        "outputId": "5208804e-9e78-4052-858a-0e4ba40ed804"
      },
      "source": [
        "# summarize dataset info\r\n",
        "dataframe.describe()"
      ],
      "execution_count": 8,
      "outputs": [
        {
          "output_type": "execute_result",
          "data": {
            "text/html": [
              "<div>\n",
              "<style scoped>\n",
              "    .dataframe tbody tr th:only-of-type {\n",
              "        vertical-align: middle;\n",
              "    }\n",
              "\n",
              "    .dataframe tbody tr th {\n",
              "        vertical-align: top;\n",
              "    }\n",
              "\n",
              "    .dataframe thead th {\n",
              "        text-align: right;\n",
              "    }\n",
              "</style>\n",
              "<table border=\"1\" class=\"dataframe\">\n",
              "  <thead>\n",
              "    <tr style=\"text-align: right;\">\n",
              "      <th></th>\n",
              "      <th>kAngle</th>\n",
              "      <th>bAngle</th>\n",
              "      <th>kScore</th>\n",
              "      <th>bScore</th>\n",
              "      <th>oScore</th>\n",
              "    </tr>\n",
              "  </thead>\n",
              "  <tbody>\n",
              "    <tr>\n",
              "      <th>count</th>\n",
              "      <td>16.000000</td>\n",
              "      <td>16.000000</td>\n",
              "      <td>16.000000</td>\n",
              "      <td>16.000000</td>\n",
              "      <td>16.000000</td>\n",
              "    </tr>\n",
              "    <tr>\n",
              "      <th>mean</th>\n",
              "      <td>82.170334</td>\n",
              "      <td>2.726704</td>\n",
              "      <td>1.717033</td>\n",
              "      <td>9.909110</td>\n",
              "      <td>4.174656</td>\n",
              "    </tr>\n",
              "    <tr>\n",
              "      <th>std</th>\n",
              "      <td>25.703204</td>\n",
              "      <td>1.139786</td>\n",
              "      <td>2.570320</td>\n",
              "      <td>0.037993</td>\n",
              "      <td>1.795612</td>\n",
              "    </tr>\n",
              "    <tr>\n",
              "      <th>min</th>\n",
              "      <td>39.361765</td>\n",
              "      <td>1.317228</td>\n",
              "      <td>-2.563824</td>\n",
              "      <td>9.832932</td>\n",
              "      <td>1.189656</td>\n",
              "    </tr>\n",
              "    <tr>\n",
              "      <th>25%</th>\n",
              "      <td>65.659873</td>\n",
              "      <td>1.641847</td>\n",
              "      <td>0.065987</td>\n",
              "      <td>9.879758</td>\n",
              "      <td>3.028716</td>\n",
              "    </tr>\n",
              "    <tr>\n",
              "      <th>50%</th>\n",
              "      <td>83.124406</td>\n",
              "      <td>2.567897</td>\n",
              "      <td>1.812441</td>\n",
              "      <td>9.914403</td>\n",
              "      <td>4.240663</td>\n",
              "    </tr>\n",
              "    <tr>\n",
              "      <th>75%</th>\n",
              "      <td>98.199431</td>\n",
              "      <td>3.607256</td>\n",
              "      <td>3.319943</td>\n",
              "      <td>9.945272</td>\n",
              "      <td>5.296074</td>\n",
              "    </tr>\n",
              "    <tr>\n",
              "      <th>max</th>\n",
              "      <td>135.833196</td>\n",
              "      <td>5.012027</td>\n",
              "      <td>7.083320</td>\n",
              "      <td>9.956092</td>\n",
              "      <td>7.928384</td>\n",
              "    </tr>\n",
              "  </tbody>\n",
              "</table>\n",
              "</div>"
            ],
            "text/plain": [
              "           kAngle     bAngle     kScore     bScore     oScore\n",
              "count   16.000000  16.000000  16.000000  16.000000  16.000000\n",
              "mean    82.170334   2.726704   1.717033   9.909110   4.174656\n",
              "std     25.703204   1.139786   2.570320   0.037993   1.795612\n",
              "min     39.361765   1.317228  -2.563824   9.832932   1.189656\n",
              "25%     65.659873   1.641847   0.065987   9.879758   3.028716\n",
              "50%     83.124406   2.567897   1.812441   9.914403   4.240663\n",
              "75%     98.199431   3.607256   3.319943   9.945272   5.296074\n",
              "max    135.833196   5.012027   7.083320   9.956092   7.928384"
            ]
          },
          "metadata": {
            "tags": []
          },
          "execution_count": 8
        }
      ]
    },
    {
      "cell_type": "code",
      "metadata": {
        "id": "mO8IPsZyjxcs",
        "colab": {
          "base_uri": "https://localhost:8080/"
        },
        "outputId": "f74bd4a8-ef4d-47a1-ce36-1c12cb6a648b"
      },
      "source": [
        "# summarize the shape of the dataset\r\n",
        "print(dataframe.shape)"
      ],
      "execution_count": 9,
      "outputs": [
        {
          "output_type": "stream",
          "text": [
            "(16, 6)\n"
          ],
          "name": "stdout"
        }
      ]
    },
    {
      "cell_type": "code",
      "metadata": {
        "id": "71d9v6Xhjznc",
        "colab": {
          "base_uri": "https://localhost:8080/",
          "height": 483
        },
        "outputId": "e3e256d2-ff76-4364-a303-840d2e21effb"
      },
      "source": [
        "# create histograms\r\n",
        "\r\n",
        "from matplotlib import pyplot\r\n",
        "\r\n",
        "# select a subset of the dataframe with the chosen columns\r\n",
        "k_a = dataframe['kAngle']\r\n",
        "b_a = dataframe['bAngle']\r\n",
        "\r\n",
        "\r\n",
        "# knee angle histograms\r\n",
        "k_a.hist(bins=50, figsize=(10,8))\r\n",
        "pyplot.show()"
      ],
      "execution_count": 10,
      "outputs": [
        {
          "output_type": "display_data",
          "data": {
            "image/png": "[encoded data removed]",
            "text/plain": [
              "<Figure size 720x576 with 1 Axes>"
            ]
          },
          "metadata": {
            "tags": [],
            "needs_background": "light"
          }
        }
      ]
    },
    {
      "cell_type": "code",
      "metadata": {
        "id": "j1mGS-soj0cc",
        "colab": {
          "base_uri": "https://localhost:8080/",
          "height": 483
        },
        "outputId": "6e7da3a6-a64b-4287-882c-6bddf26a9e2e"
      },
      "source": [
        "# bar angle histograms\r\n",
        "b_a.hist(bins=50, figsize=(10,8))\r\n",
        "pyplot.show()"
      ],
      "execution_count": 11,
      "outputs": [
        {
          "output_type": "display_data",
          "data": {
            "image/png": "[encoded data removed]",
            "text/plain": [
              "<Figure size 720x576 with 1 Axes>"
            ]
          },
          "metadata": {
            "tags": [],
            "needs_background": "light"
          }
        }
      ]
    }
  ]
}