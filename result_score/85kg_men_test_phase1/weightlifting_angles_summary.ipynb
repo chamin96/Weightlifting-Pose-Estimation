{
  "nbformat": 4,
  "nbformat_minor": 0,
  "metadata": {
    "colab": {
      "name": "weightlifting angles summary.ipynb",
      "provenance": [],
      "collapsed_sections": []
    },
    "kernelspec": {
      "name": "python3",
      "display_name": "Python 3"
    }
  },
  "cells": [
    {
      "cell_type": "code",
      "metadata": {
        "id": "JEoAMNGyf4du"
      },
      "source": [
        "from pandas import read_csv\n",
        "\n",
        "# define the dataset location\n",
        "filename = 'score_report.csv'\n",
        "\n",
        "# load the csv file as a data frame, header as 1st row and missing values as '?'\n",
        "dataframe = read_csv(filename, header=0, na_values='?')"
      ],
      "execution_count": 1,
      "outputs": []
    },
    {
      "cell_type": "code",
      "metadata": {
        "colab": {
          "base_uri": "https://localhost:8080/",
          "height": 206
        },
        "id": "xAvvCC-cg443",
        "outputId": "94adf827-48e4-4d89-95cd-235be340d0a3"
      },
      "source": [
        "# print first 5 rows in the dataset\n",
        "dataframe.head()"
      ],
      "execution_count": 2,
      "outputs": [
        {
          "output_type": "execute_result",
          "data": {
            "text/html": [
              "<div>\n",
              "<style scoped>\n",
              "    .dataframe tbody tr th:only-of-type {\n",
              "        vertical-align: middle;\n",
              "    }\n",
              "\n",
              "    .dataframe tbody tr th {\n",
              "        vertical-align: top;\n",
              "    }\n",
              "\n",
              "    .dataframe thead th {\n",
              "        text-align: right;\n",
              "    }\n",
              "</style>\n",
              "<table border=\"1\" class=\"dataframe\">\n",
              "  <thead>\n",
              "    <tr style=\"text-align: right;\">\n",
              "      <th></th>\n",
              "      <th>file</th>\n",
              "      <th>kAngle</th>\n",
              "      <th>bAngle</th>\n",
              "      <th>kScore</th>\n",
              "      <th>bScore</th>\n",
              "      <th>oScore</th>\n",
              "    </tr>\n",
              "  </thead>\n",
              "  <tbody>\n",
              "    <tr>\n",
              "      <th>0</th>\n",
              "      <td>men85kg_0023.mp4</td>\n",
              "      <td>81.318884</td>\n",
              "      <td>2.974479</td>\n",
              "      <td>1.631888</td>\n",
              "      <td>9.900851</td>\n",
              "      <td>4.112577</td>\n",
              "    </tr>\n",
              "    <tr>\n",
              "      <th>1</th>\n",
              "      <td>men85kg_0019.mp4</td>\n",
              "      <td>80.044748</td>\n",
              "      <td>1.314878</td>\n",
              "      <td>1.504475</td>\n",
              "      <td>9.956171</td>\n",
              "      <td>4.039984</td>\n",
              "    </tr>\n",
              "    <tr>\n",
              "      <th>2</th>\n",
              "      <td>men85kg_0002.mp4</td>\n",
              "      <td>79.720860</td>\n",
              "      <td>1.460444</td>\n",
              "      <td>1.472086</td>\n",
              "      <td>9.951319</td>\n",
              "      <td>4.015856</td>\n",
              "    </tr>\n",
              "    <tr>\n",
              "      <th>3</th>\n",
              "      <td>men85kg_0004.mp4</td>\n",
              "      <td>64.678211</td>\n",
              "      <td>2.745766</td>\n",
              "      <td>-0.032179</td>\n",
              "      <td>9.908474</td>\n",
              "      <td>2.950017</td>\n",
              "    </tr>\n",
              "    <tr>\n",
              "      <th>4</th>\n",
              "      <td>men85kg_0024.mp4</td>\n",
              "      <td>105.707186</td>\n",
              "      <td>1.717378</td>\n",
              "      <td>4.070719</td>\n",
              "      <td>9.942754</td>\n",
              "      <td>5.832329</td>\n",
              "    </tr>\n",
              "  </tbody>\n",
              "</table>\n",
              "</div>"
            ],
            "text/plain": [
              "               file      kAngle    bAngle    kScore    bScore    oScore\n",
              "0  men85kg_0023.mp4   81.318884  2.974479  1.631888  9.900851  4.112577\n",
              "1  men85kg_0019.mp4   80.044748  1.314878  1.504475  9.956171  4.039984\n",
              "2  men85kg_0002.mp4   79.720860  1.460444  1.472086  9.951319  4.015856\n",
              "3  men85kg_0004.mp4   64.678211  2.745766 -0.032179  9.908474  2.950017\n",
              "4  men85kg_0024.mp4  105.707186  1.717378  4.070719  9.942754  5.832329"
            ]
          },
          "metadata": {
            "tags": []
          },
          "execution_count": 2
        }
      ]
    },
    {
      "cell_type": "code",
      "metadata": {
        "colab": {
          "base_uri": "https://localhost:8080/",
          "height": 300
        },
        "id": "Zu8pbJrXg8WU",
        "outputId": "fc5324ae-d2f6-48ed-9be0-366f99f94834"
      },
      "source": [
        "# summarize dataset info\n",
        "dataframe.describe()"
      ],
      "execution_count": 3,
      "outputs": [
        {
          "output_type": "execute_result",
          "data": {
            "text/html": [
              "<div>\n",
              "<style scoped>\n",
              "    .dataframe tbody tr th:only-of-type {\n",
              "        vertical-align: middle;\n",
              "    }\n",
              "\n",
              "    .dataframe tbody tr th {\n",
              "        vertical-align: top;\n",
              "    }\n",
              "\n",
              "    .dataframe thead th {\n",
              "        text-align: right;\n",
              "    }\n",
              "</style>\n",
              "<table border=\"1\" class=\"dataframe\">\n",
              "  <thead>\n",
              "    <tr style=\"text-align: right;\">\n",
              "      <th></th>\n",
              "      <th>kAngle</th>\n",
              "      <th>bAngle</th>\n",
              "      <th>kScore</th>\n",
              "      <th>bScore</th>\n",
              "      <th>oScore</th>\n",
              "    </tr>\n",
              "  </thead>\n",
              "  <tbody>\n",
              "    <tr>\n",
              "      <th>count</th>\n",
              "      <td>19.000000</td>\n",
              "      <td>19.000000</td>\n",
              "      <td>19.000000</td>\n",
              "      <td>19.000000</td>\n",
              "      <td>19.000000</td>\n",
              "    </tr>\n",
              "    <tr>\n",
              "      <th>mean</th>\n",
              "      <td>89.727959</td>\n",
              "      <td>1.936270</td>\n",
              "      <td>2.472796</td>\n",
              "      <td>9.935458</td>\n",
              "      <td>4.711594</td>\n",
              "    </tr>\n",
              "    <tr>\n",
              "      <th>std</th>\n",
              "      <td>23.001186</td>\n",
              "      <td>0.725761</td>\n",
              "      <td>2.300119</td>\n",
              "      <td>0.024192</td>\n",
              "      <td>1.608235</td>\n",
              "    </tr>\n",
              "    <tr>\n",
              "      <th>min</th>\n",
              "      <td>61.552680</td>\n",
              "      <td>1.078612</td>\n",
              "      <td>-0.344732</td>\n",
              "      <td>9.882729</td>\n",
              "      <td>2.731830</td>\n",
              "    </tr>\n",
              "    <tr>\n",
              "      <th>25%</th>\n",
              "      <td>78.468947</td>\n",
              "      <td>1.426598</td>\n",
              "      <td>1.346895</td>\n",
              "      <td>9.912590</td>\n",
              "      <td>3.928719</td>\n",
              "    </tr>\n",
              "    <tr>\n",
              "      <th>50%</th>\n",
              "      <td>87.612700</td>\n",
              "      <td>1.564164</td>\n",
              "      <td>2.261270</td>\n",
              "      <td>9.947861</td>\n",
              "      <td>4.568245</td>\n",
              "    </tr>\n",
              "    <tr>\n",
              "      <th>75%</th>\n",
              "      <td>98.491488</td>\n",
              "      <td>2.622302</td>\n",
              "      <td>3.349149</td>\n",
              "      <td>9.952447</td>\n",
              "      <td>5.316318</td>\n",
              "    </tr>\n",
              "    <tr>\n",
              "      <th>max</th>\n",
              "      <td>162.939629</td>\n",
              "      <td>3.518135</td>\n",
              "      <td>9.793963</td>\n",
              "      <td>9.964046</td>\n",
              "      <td>9.830185</td>\n",
              "    </tr>\n",
              "  </tbody>\n",
              "</table>\n",
              "</div>"
            ],
            "text/plain": [
              "           kAngle     bAngle     kScore     bScore     oScore\n",
              "count   19.000000  19.000000  19.000000  19.000000  19.000000\n",
              "mean    89.727959   1.936270   2.472796   9.935458   4.711594\n",
              "std     23.001186   0.725761   2.300119   0.024192   1.608235\n",
              "min     61.552680   1.078612  -0.344732   9.882729   2.731830\n",
              "25%     78.468947   1.426598   1.346895   9.912590   3.928719\n",
              "50%     87.612700   1.564164   2.261270   9.947861   4.568245\n",
              "75%     98.491488   2.622302   3.349149   9.952447   5.316318\n",
              "max    162.939629   3.518135   9.793963   9.964046   9.830185"
            ]
          },
          "metadata": {
            "tags": []
          },
          "execution_count": 3
        }
      ]
    },
    {
      "cell_type": "code",
      "metadata": {
        "colab": {
          "base_uri": "https://localhost:8080/"
        },
        "id": "rMx1RkEMhC6v",
        "outputId": "2c48198c-48bd-41dd-c987-dd2044d27b1a"
      },
      "source": [
        "# summarize the shape of the dataset\n",
        "print(dataframe.shape)"
      ],
      "execution_count": 4,
      "outputs": [
        {
          "output_type": "stream",
          "text": [
            "(19, 6)\n"
          ],
          "name": "stdout"
        }
      ]
    },
    {
      "cell_type": "code",
      "metadata": {
        "colab": {
          "base_uri": "https://localhost:8080/",
          "height": 483
        },
        "id": "EOB_QuJjhIhg",
        "outputId": "1ff0cf3a-b688-4284-8e29-3f32c44fa493"
      },
      "source": [
        "# create histograms\n",
        "\n",
        "from matplotlib import pyplot\n",
        "\n",
        "# select a subset of the dataframe with the chosen columns\n",
        "k_a = dataframe['kAngle']\n",
        "b_a = dataframe['bAngle']\n",
        "\n",
        "\n",
        "# knee angle histograms\n",
        "k_a.hist(bins=50, figsize=(10,8))\n",
        "pyplot.show()"
      ],
      "execution_count": 20,
      "outputs": [
        {
          "output_type": "display_data",
          "data": {
            "image/png": "[encoded data removed]",
            "text/plain": [
              "<Figure size 720x576 with 1 Axes>"
            ]
          },
          "metadata": {
            "tags": [],
            "needs_background": "light"
          }
        }
      ]
    },
    {
      "cell_type": "code",
      "metadata": {
        "colab": {
          "base_uri": "https://localhost:8080/",
          "height": 483
        },
        "id": "R5QOcTIkhbzn",
        "outputId": "4c572926-9780-4baa-a225-7dd0f7b384ae"
      },
      "source": [
        "# bar angle histograms\n",
        "b_a.hist(bins=50, figsize=(10,8))\n",
        "pyplot.show()"
      ],
      "execution_count": 21,
      "outputs": [
        {
          "output_type": "display_data",
          "data": {
            "image/png": "[encoded data removed]",
            "text/plain": [
              "<Figure size 720x576 with 1 Axes>"
            ]
          },
          "metadata": {
            "tags": [],
            "needs_background": "light"
          }
        }
      ]
    },
    {
      "cell_type": "code",
      "metadata": {
        "id": "QbnEgKxCjRef"
      },
      "source": [
        ""
      ],
      "execution_count": null,
      "outputs": []
    }
  ]
}